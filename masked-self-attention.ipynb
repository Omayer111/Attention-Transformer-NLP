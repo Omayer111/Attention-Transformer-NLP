{
 "cells": [
  {
   "cell_type": "code",
   "execution_count": 1,
   "id": "c507e3f9",
   "metadata": {},
   "outputs": [
    {
     "name": "stderr",
     "output_type": "stream",
     "text": [
      "c:\\Users\\USER\\AppData\\Local\\Programs\\Python\\Python313\\Lib\\site-packages\\torch\\_subclasses\\functional_tensor.py:275: UserWarning: Failed to initialize NumPy: No module named 'numpy' (Triggered internally at C:\\actions-runner\\_work\\pytorch\\pytorch\\pytorch\\torch\\csrc\\utils\\tensor_numpy.cpp:81.)\n",
      "  cpu = _conversion_method_template(device=torch.device(\"cpu\"))\n"
     ]
    }
   ],
   "source": [
    "import torch\n",
    "import torch.nn as nn\n",
    "import torch.nn.functional as F"
   ]
  },
  {
   "cell_type": "code",
   "execution_count": 2,
   "id": "1c708617",
   "metadata": {},
   "outputs": [],
   "source": [
    "class MaskedSelfAttention(nn.Module):\n",
    "\n",
    "    def __init__(self, d_model = 2,\n",
    "                 row_dim = 0, col_dim = 1):\n",
    "        # here d_model means word embedding size\n",
    "        # and row_dim and col_dim are used to access the row and column of the matrix\n",
    "        \n",
    "        super().__init__()\n",
    "        \n",
    "        \n",
    "        # generated the weights for the query, key and value matrices\n",
    "        self.W_q = nn.Linear(in_features = d_model,\n",
    "                             out_features = d_model,\n",
    "                             bias = False)\n",
    "        self.W_k = nn.Linear(in_features = d_model,\n",
    "                             out_features = d_model,\n",
    "                             bias = False)\n",
    "        self.W_v = nn.Linear(in_features = d_model,\n",
    "                             out_features = d_model,\n",
    "                             bias = False)\n",
    "        self.row_dim = row_dim\n",
    "        self.col_dim = col_dim\n",
    "        # row in vertical direction and column in horizontal direction\n",
    "        # [[1,2,3],  |\n",
    "        #  [4,5,6],  |dim0 means row count ----> this means col\n",
    "        #  [7,8,9]]  |\n",
    "        \n",
    "    def forward(self,token_encodings,mask = None):\n",
    "        # created teh query, key and value matrices from the token encodings X weights\n",
    "        q = self.W_q(token_encodings)\n",
    "        k = self.W_k(token_encodings)\n",
    "        v = self.W_v(token_encodings)\n",
    "        \n",
    "        # calculate the similarity between the query and key matrices\n",
    "        sims = torch.matmul(q,k.transpose(dim0=self.row_dim,dim1=self.col_dim))\n",
    "        \n",
    "        scaled_sims = sims / torch.tensor(k.size(self.col_dim)**0.5)\n",
    "        \n",
    "        # we need to add the mask to the similarity matrix\n",
    "        # # this is done to avoid the attention to the upcoming tokens in the sequence\n",
    "        \n",
    "        if mask is not None:\n",
    "            # here we are adding a very large negative number to the similarity matrix\n",
    "            # so that when we apply softmax, it will ignore the masked tokens\n",
    "            scaled_sims = scaled_sims.masked_fill(mask == mask,value=-1e9)\n",
    "        \n",
    "        \n",
    "        # apply softmax to the similarity matrix to get the attention percentages\n",
    "        # here self.col_dim is used to access the column of the matrix which is in the horizontal direction\n",
    "        attention_percentages = F.softmax(scaled_sims, dim = self.col_dim)\n",
    "        \n",
    "        # now calculate the attention weighted sum of the value matrix\n",
    "        attention_score = torch.matmul(attention_percentages,v)\n",
    "        \n",
    "        return attention_score\n",
    "        \n",
    "        \n",
    "        \n",
    "        "
   ]
  },
  {
   "cell_type": "code",
   "execution_count": 4,
   "id": "0848fda2",
   "metadata": {},
   "outputs": [
    {
     "name": "stdout",
     "output_type": "stream",
     "text": [
      "tensor([[ 0.4239, -0.8639],\n",
      "        [ 0.4239, -0.8639],\n",
      "        [ 0.4239, -0.8639]], grad_fn=<MmBackward0>)\n"
     ]
    }
   ],
   "source": [
    "## create a matrix of token encodings...\n",
    "encodings_matrix = torch.tensor([[1.16, 0.23],\n",
    "                                 [0.57, 1.36],\n",
    "                                 [4.41, -2.16]])\n",
    "maskedSelfAttention = MaskedSelfAttention(d_model=2,\n",
    "                               row_dim=0,\n",
    "                               col_dim=1)\n",
    "mask = torch.tril(torch.ones(3,3))\n",
    "mask = mask == 0\n",
    "print(maskedSelfAttention(encodings_matrix,mask))"
   ]
  }
 ],
 "metadata": {
  "kernelspec": {
   "display_name": "Python 3",
   "language": "python",
   "name": "python3"
  },
  "language_info": {
   "codemirror_mode": {
    "name": "ipython",
    "version": 3
   },
   "file_extension": ".py",
   "mimetype": "text/x-python",
   "name": "python",
   "nbconvert_exporter": "python",
   "pygments_lexer": "ipython3",
   "version": "3.13.0"
  }
 },
 "nbformat": 4,
 "nbformat_minor": 5
}
