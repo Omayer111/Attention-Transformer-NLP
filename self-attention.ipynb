{
 "cells": [
  {
   "cell_type": "code",
   "execution_count": 7,
   "metadata": {},
   "outputs": [
    {
     "name": "stderr",
     "output_type": "stream",
     "text": [
      "c:\\Users\\USER\\AppData\\Local\\Programs\\Python\\Python313\\Lib\\site-packages\\torch\\_subclasses\\functional_tensor.py:275: UserWarning: Failed to initialize NumPy: No module named 'numpy' (Triggered internally at C:\\actions-runner\\_work\\pytorch\\pytorch\\pytorch\\torch\\csrc\\utils\\tensor_numpy.cpp:81.)\n",
      "  cpu = _conversion_method_template(device=torch.device(\"cpu\"))\n"
     ]
    }
   ],
   "source": [
    "import torch\n",
    "import torch.nn as nn\n",
    "import torch.nn.functional as F"
   ]
  },
  {
   "cell_type": "code",
   "execution_count": 10,
   "metadata": {},
   "outputs": [],
   "source": [
    "class SelfAttention(nn.Module):\n",
    "\n",
    "    def __init__(self, d_model = 2,\n",
    "                 row_dim = 0, col_dim = 1):\n",
    "        # here d_model means word embedding size\n",
    "        # and row_dim and col_dim are used to access the row and column of the matrix\n",
    "        \n",
    "        super().__init__()\n",
    "        \n",
    "        \n",
    "        # generated the weights for the query, key and value matrices\n",
    "        self.W_q = nn.Linear(in_features = d_model,\n",
    "                             out_features = d_model,\n",
    "                             bias = False)\n",
    "        self.W_k = nn.Linear(in_features = d_model,\n",
    "                             out_features = d_model,\n",
    "                             bias = False)\n",
    "        self.W_v = nn.Linear(in_features = d_model,\n",
    "                             out_features = d_model,\n",
    "                             bias = False)\n",
    "        self.row_dim = row_dim\n",
    "        self.col_dim = col_dim\n",
    "        # row in vertical direction and column in horizontal direction\n",
    "        # [[1,2,3],  |\n",
    "        #  [4,5,6],  |dim0 means row count ----> this means col\n",
    "        #  [7,8,9]]  |\n",
    "        \n",
    "    def forward(self,token_encodings):\n",
    "        # created teh query, key and value matrices from the token encodings X weights\n",
    "        q = self.W_q(token_encodings)\n",
    "        k = self.W_k(token_encodings)\n",
    "        v = self.W_v(token_encodings)\n",
    "        \n",
    "        # calculate the similarity between the query and key matrices\n",
    "        sims = torch.matmul(q,k.transpose(dim0=self.row_dim,dim1=self.col_dim))\n",
    "        \n",
    "        scaled_sims = sims / torch.tensor(k.size(self.col_dim)**0.5)\n",
    "        \n",
    "        # apply softmax to the similarity matrix to get the attention percentages\n",
    "        # here self.col_dim is used to access the column of the matrix which is in the horizontal direction\n",
    "        attention_percentages = F.softmax(scaled_sims, dim = self.col_dim)\n",
    "        \n",
    "        # now calculate the attention weighted sum of the value matrix\n",
    "        attention_score = torch.matmul(attention_percentages,v)\n",
    "        \n",
    "        return attention_score\n",
    "        \n",
    "        \n",
    "        \n",
    "        \n",
    "        \n",
    "        \n",
    "        "
   ]
  },
  {
   "cell_type": "code",
   "execution_count": 11,
   "metadata": {},
   "outputs": [
    {
     "name": "stdout",
     "output_type": "stream",
     "text": [
      "tensor([[-0.0769, -0.6806],\n",
      "        [-0.0734, -0.6524],\n",
      "        [-0.0701, -0.6249],\n",
      "        [-0.0668, -0.5982]], grad_fn=<MmBackward0>)\n"
     ]
    }
   ],
   "source": [
    "encodings_matrix = torch.tensor([[1.11,.23],\n",
    "                                 [2.34,.45],\n",
    "                               [3.56,.67],\n",
    "                               [4.78,.89]])\n",
    "torch.manual_seed(0)\n",
    "attention = SelfAttention(d_model = 2,\n",
    "                            row_dim = 0,\n",
    "                            col_dim = 1)\n",
    "print(attention.forward(encodings_matrix))"
   ]
  },
  {
   "cell_type": "code",
   "execution_count": null,
   "metadata": {},
   "outputs": [
    {
     "name": "stdout",
     "output_type": "stream",
     "text": [
      "tensor([[-0.0053, -0.5820],\n",
      "        [ 0.3793, -0.5204]], grad_fn=<TransposeBackward0>)\n",
      "tensor([[-0.2723, -0.0140],\n",
      "        [ 0.1896,  0.5607]], grad_fn=<TransposeBackward0>)\n",
      "tensor([[-0.0628, -0.2137],\n",
      "        [ 0.1871, -0.1390]], grad_fn=<TransposeBackward0>)\n"
     ]
    }
   ],
   "source": [
    "print(attention.W_q.weight.transpose(0,1))\n",
    "print(attention.W_k.weight.transpose(0,1))\n",
    "print(attention.W_v.weight.transpose(0,1))"
   ]
  }
 ],
 "metadata": {
  "kernelspec": {
   "display_name": "Python 3",
   "language": "python",
   "name": "python3"
  },
  "language_info": {
   "codemirror_mode": {
    "name": "ipython",
    "version": 3
   },
   "file_extension": ".py",
   "mimetype": "text/x-python",
   "name": "python",
   "nbconvert_exporter": "python",
   "pygments_lexer": "ipython3",
   "version": "3.13.0"
  }
 },
 "nbformat": 4,
 "nbformat_minor": 2
}
